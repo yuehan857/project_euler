{
 "cells": [
  {
   "cell_type": "markdown",
   "metadata": {},
   "source": [
    "## Problem 85: Counting rectangles"
   ]
  },
  {
   "cell_type": "markdown",
   "metadata": {},
   "source": [
    "By counting carefully it can be seen that a rectangular grid measuring 3 by 2 contains eighteen rectangles:\n",
    "\n",
    "![title](p085.png)\n",
    "\n",
    "Although there exists no rectangular grid that contains exactly two million rectangles, find the area of the grid with the nearest solution."
   ]
  },
  {
   "cell_type": "markdown",
   "metadata": {},
   "source": [
    "## Answer"
   ]
  },
  {
   "cell_type": "markdown",
   "metadata": {},
   "source": [
    "This problem can be solved in two step: first, create a function whose inputs are the length $n$ and width $m$ of rectangles and returns the counting of sub-rectangles it contains; second, run a loop to find those rectangles whose counting nears $2 \\times 10^6$, and find the closest one from them.\n",
    "\n",
    "For the first step, since each rectangle contains $n \\times m$ types sub-rectangles, and it is easy to show that the number of each type of sub-rectangles (whose length is $i$, width is $j$) is $(n - (i - 1))\\times(m - (j - 1))$ (you can try it on a small rectangles, e.g. the examples in the question). We just need to create a $n \\times m$ matrix whose elements are the number of each sub-rectangle, and sum all the elements."
   ]
  },
  {
   "cell_type": "code",
   "execution_count": 1,
   "metadata": {},
   "outputs": [],
   "source": [
    "import pandas as pd\n",
    "import numpy as np\n",
    "\n",
    "def counting_rect(n, m):\n",
    "    '''\n",
    "    Counting the number of sub-rectangles in a given rectangle\n",
    "\n",
    "    Args:\n",
    "        n : The length of rectangle\n",
    "        m : The width of rectangle\n",
    "\n",
    "    Returns:\n",
    "        The number of sub-rectangles\n",
    "    '''\n",
    "    rect = np.zeros([n,m])\n",
    "    for i in range(0, n):\n",
    "        for j in range(0, m):\n",
    "            rect[i,j] = (n - i) * (m - j)\n",
    "            \n",
    "    return np.sum(rect)"
   ]
  },
  {
   "cell_type": "markdown",
   "metadata": {},
   "source": [
    "Then, we need to find which rectangle's counting is closest to $2 \\times 10^6$. After some trials, I found that the counting of $1 \\times 2000$ was sliently above $2 \\times 10^6$, so the answer must lie in the range of $[1, 2000] \\times [1, 2000]$, but it was still a wide range. I narrowed it down by starting trial from $n = 1$, as long as counting hits $2 \\times 10^6$, turn to a higher $n$. It is obvious that the `counting_rect` function is symmetric in $n, m$, so when hiting $2 \\times 10^6$, as long as $n > m$, the following loop is just repetition of the former. With these two constrains, we can sharply reduce our work and get answer faster. "
   ]
  },
  {
   "cell_type": "code",
   "execution_count": 2,
   "metadata": {},
   "outputs": [],
   "source": [
    "near_2e6 = []\n",
    "\n",
    "L = 2000\n",
    "k = 1\n",
    "while k <= L:\n",
    "    l = 1\n",
    "    while counting_rect(k, l) < 2e6:\n",
    "        l = l + 1\n",
    "    near_2e6.append([k, l - 1, counting_rect(k, l - 1)])\n",
    "    near_2e6.append([k, l , counting_rect(k, l)])\n",
    "    L = l\n",
    "    k = k + 1"
   ]
  },
  {
   "cell_type": "markdown",
   "metadata": {},
   "source": [
    "The remaining work is just to find the closest one from what we found in above steps."
   ]
  },
  {
   "cell_type": "code",
   "execution_count": 3,
   "metadata": {},
   "outputs": [
    {
     "data": {
      "text/html": [
       "<div>\n",
       "<style scoped>\n",
       "    .dataframe tbody tr th:only-of-type {\n",
       "        vertical-align: middle;\n",
       "    }\n",
       "\n",
       "    .dataframe tbody tr th {\n",
       "        vertical-align: top;\n",
       "    }\n",
       "\n",
       "    .dataframe thead th {\n",
       "        text-align: right;\n",
       "    }\n",
       "</style>\n",
       "<table border=\"1\" class=\"dataframe\">\n",
       "  <thead>\n",
       "    <tr style=\"text-align: right;\">\n",
       "      <th></th>\n",
       "      <th>0</th>\n",
       "      <th>1</th>\n",
       "      <th>2</th>\n",
       "    </tr>\n",
       "  </thead>\n",
       "  <tbody>\n",
       "    <tr>\n",
       "      <th>0</th>\n",
       "      <td>1</td>\n",
       "      <td>1999</td>\n",
       "      <td>1999000</td>\n",
       "    </tr>\n",
       "    <tr>\n",
       "      <th>1</th>\n",
       "      <td>1</td>\n",
       "      <td>2000</td>\n",
       "      <td>2001000</td>\n",
       "    </tr>\n",
       "    <tr>\n",
       "      <th>2</th>\n",
       "      <td>2</td>\n",
       "      <td>1154</td>\n",
       "      <td>1999305</td>\n",
       "    </tr>\n",
       "    <tr>\n",
       "      <th>3</th>\n",
       "      <td>2</td>\n",
       "      <td>1155</td>\n",
       "      <td>2002770</td>\n",
       "    </tr>\n",
       "    <tr>\n",
       "      <th>4</th>\n",
       "      <td>3</td>\n",
       "      <td>815</td>\n",
       "      <td>1995120</td>\n",
       "    </tr>\n",
       "    <tr>\n",
       "      <th>...</th>\n",
       "      <td>...</td>\n",
       "      <td>...</td>\n",
       "      <td>...</td>\n",
       "    </tr>\n",
       "    <tr>\n",
       "      <th>101</th>\n",
       "      <td>51</td>\n",
       "      <td>55</td>\n",
       "      <td>2042040</td>\n",
       "    </tr>\n",
       "    <tr>\n",
       "      <th>102</th>\n",
       "      <td>52</td>\n",
       "      <td>53</td>\n",
       "      <td>1971918</td>\n",
       "    </tr>\n",
       "    <tr>\n",
       "      <th>103</th>\n",
       "      <td>52</td>\n",
       "      <td>54</td>\n",
       "      <td>2046330</td>\n",
       "    </tr>\n",
       "    <tr>\n",
       "      <th>104</th>\n",
       "      <td>53</td>\n",
       "      <td>52</td>\n",
       "      <td>1971918</td>\n",
       "    </tr>\n",
       "    <tr>\n",
       "      <th>105</th>\n",
       "      <td>53</td>\n",
       "      <td>53</td>\n",
       "      <td>2047761</td>\n",
       "    </tr>\n",
       "  </tbody>\n",
       "</table>\n",
       "<p>106 rows × 3 columns</p>\n",
       "</div>"
      ],
      "text/plain": [
       "      0     1        2\n",
       "0     1  1999  1999000\n",
       "1     1  2000  2001000\n",
       "2     2  1154  1999305\n",
       "3     2  1155  2002770\n",
       "4     3   815  1995120\n",
       "..   ..   ...      ...\n",
       "101  51    55  2042040\n",
       "102  52    53  1971918\n",
       "103  52    54  2046330\n",
       "104  53    52  1971918\n",
       "105  53    53  2047761\n",
       "\n",
       "[106 rows x 3 columns]"
      ]
     },
     "execution_count": 3,
     "metadata": {},
     "output_type": "execute_result"
    }
   ],
   "source": [
    "near_2e6 = pd.DataFrame(near_2e6).astype(int)\n",
    "near_2e6"
   ]
  },
  {
   "cell_type": "code",
   "execution_count": 4,
   "metadata": {},
   "outputs": [
    {
     "data": {
      "text/html": [
       "<div>\n",
       "<style scoped>\n",
       "    .dataframe tbody tr th:only-of-type {\n",
       "        vertical-align: middle;\n",
       "    }\n",
       "\n",
       "    .dataframe tbody tr th {\n",
       "        vertical-align: top;\n",
       "    }\n",
       "\n",
       "    .dataframe thead th {\n",
       "        text-align: right;\n",
       "    }\n",
       "</style>\n",
       "<table border=\"1\" class=\"dataframe\">\n",
       "  <thead>\n",
       "    <tr style=\"text-align: right;\">\n",
       "      <th></th>\n",
       "      <th>0</th>\n",
       "      <th>1</th>\n",
       "      <th>2</th>\n",
       "    </tr>\n",
       "  </thead>\n",
       "  <tbody>\n",
       "    <tr>\n",
       "      <th>70</th>\n",
       "      <td>36</td>\n",
       "      <td>77</td>\n",
       "      <td>1999998</td>\n",
       "    </tr>\n",
       "  </tbody>\n",
       "</table>\n",
       "</div>"
      ],
      "text/plain": [
       "     0   1        2\n",
       "70  36  77  1999998"
      ]
     },
     "execution_count": 4,
     "metadata": {},
     "output_type": "execute_result"
    }
   ],
   "source": [
    "diff = abs(near_2e6[2] - 2e6)\n",
    "min_idx = diff.argmin(axis = 0)\n",
    "near_2e6[min_idx:min_idx + 1]"
   ]
  },
  {
   "cell_type": "code",
   "execution_count": 5,
   "metadata": {},
   "outputs": [
    {
     "data": {
      "text/plain": [
       "2772"
      ]
     },
     "execution_count": 5,
     "metadata": {},
     "output_type": "execute_result"
    }
   ],
   "source": [
    "area = 36 * 77\n",
    "area"
   ]
  },
  {
   "cell_type": "markdown",
   "metadata": {},
   "source": [
    "## Reference\n",
    "1. https://www.mathblog.dk/project-euler-85-rectangles-rectangular-grid/"
   ]
  },
  {
   "cell_type": "code",
   "execution_count": null,
   "metadata": {},
   "outputs": [],
   "source": []
  }
 ],
 "metadata": {
  "kernelspec": {
   "display_name": "Python 3",
   "language": "python",
   "name": "python3"
  },
  "language_info": {
   "codemirror_mode": {
    "name": "ipython",
    "version": 3
   },
   "file_extension": ".py",
   "mimetype": "text/x-python",
   "name": "python",
   "nbconvert_exporter": "python",
   "pygments_lexer": "ipython3",
   "version": "3.8.3"
  }
 },
 "nbformat": 4,
 "nbformat_minor": 4
}
