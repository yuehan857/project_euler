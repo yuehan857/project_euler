{
 "cells": [
  {
   "cell_type": "markdown",
   "metadata": {},
   "source": [
    "## Problem 100: Arranged probability"
   ]
  },
  {
   "cell_type": "markdown",
   "metadata": {},
   "source": [
    "If a box contains twenty-one coloured discs, composed of fifteen blue discs and six red discs, and two discs were taken at random, it can be seen that the probability of taking two blue discs, $P(BB) = (15/21)×(14/20) = 1/2$.\n",
    "\n",
    "The next such arrangement, for which there is exactly $50\\%$ chance of taking two blue discs at random, is a box containing eighty-five blue discs and thirty-five red discs.\n",
    "\n",
    "By finding the first arrangement to contain over $10^{12} = 1,000,000,000,000$ discs in total, determine the number of blue discs that the box would contain."
   ]
  },
  {
   "cell_type": "markdown",
   "metadata": {},
   "source": [
    "## Answer:"
   ]
  },
  {
   "cell_type": "markdown",
   "metadata": {},
   "source": [
    "This problem can be translated to find integer $N$, $n$ which satisfy the following equation:\n",
    "\n",
    "$$\n",
    "\\begin{align}\n",
    "\\frac{n}{N} \\times \\frac{n-1}{N-1} = \\frac{1}{2} \\Rightarrow 2 \\times n \\times (n-1) = N \\times (N-1)\n",
    "\\end{align}\n",
    "$$\n",
    "\n",
    "Straightforward, I run a loop to find the $N$ and $n$. "
   ]
  },
  {
   "cell_type": "code",
   "execution_count": 1,
   "metadata": {},
   "outputs": [],
   "source": [
    "import math"
   ]
  },
  {
   "cell_type": "code",
   "execution_count": 2,
   "metadata": {},
   "outputs": [],
   "source": [
    "def find_arr(start):\n",
    "    '''\n",
    "    Find the arrangement of discs whose P(BB) = 1/2 by trial one-by-one from start\n",
    "\n",
    "    Args:\n",
    "        start (int): The number over which to find the next arrangement\n",
    "\n",
    "    Returns:\n",
    "        The total number of discs and the number of blue discs\n",
    "    '''\n",
    "    N = math.floor(start)\n",
    "    n = math.floor(0.7 * N)\n",
    "    t1 = 0\n",
    "    t2 = 0\n",
    "    while 2 * n * (n-1) != N * (N - 1):\n",
    "        if 2 * n * (n-1) < N * (N - 1):\n",
    "            n = n + 1\n",
    "            t1 = t1 + 1 \n",
    "        else:\n",
    "            N = N + 1\n",
    "            t2 = t2 + 1\n",
    "            \n",
    "    t = t1 + t2 \n",
    "        \n",
    "    print (\"iterate\", t1, \"+\", t2, \"=\", t,\"times\")\n",
    "\n",
    "    return N, n"
   ]
  },
  {
   "cell_type": "code",
   "execution_count": 3,
   "metadata": {},
   "outputs": [
    {
     "name": "stdout",
     "output_type": "stream",
     "text": [
      "iterate 15 + 20 = 35 times\n",
      "(120, 85)\n",
      "iterate 9731 + 13661 = 23392 times\n",
      "(23661, 16731)\n",
      "iterate 2612555 + 3684660 = 6297215 times\n",
      "(4684660, 3312555)\n"
     ]
    }
   ],
   "source": [
    "print(find_arr(1e2))\n",
    "print(find_arr(1e4))\n",
    "print(find_arr(1e6))"
   ]
  },
  {
   "cell_type": "markdown",
   "metadata": {},
   "source": [
    "It works well when number is small, but after $10^6$ it will be tooooo time-consuming.\n",
    "\n",
    "Actually, the equation is essentially a quadratic Diophantine equation, and there is an analytical solution to this equation, which turns out to be a pair of recursive expressions.\n",
    "\n",
    "$$\n",
    "\\begin{align}\n",
    "N_{i+1} &= 4 \\times n_i + 3 \\times N_i - 3 \\\\\n",
    "n_{i+1} &= 3 \\times n_i + 2 \\times N_i - 2 \\\\\n",
    "\\end{align}\n",
    "$$\n",
    "\n",
    "So, I can run another loop to find the answer, which is way much faster!"
   ]
  },
  {
   "cell_type": "code",
   "execution_count": 4,
   "metadata": {},
   "outputs": [],
   "source": [
    "def find_arr2(start):\n",
    "    '''\n",
    "    Find the arrangement of discs whose P(BB) = 1/2 by recursive function\n",
    "\n",
    "    Args:\n",
    "        start (int): The number over which to find the next arrangement\n",
    "\n",
    "    Returns:\n",
    "        The total number of discs and the number of blue discs\n",
    "    '''\n",
    "    N = 21\n",
    "    n = 15\n",
    "    t = 0\n",
    "    while N < start:\n",
    "        N_temp = N\n",
    "        n_temp = n\n",
    "        N = 4 * n_temp + 3 * N_temp - 3\n",
    "        n = 3 * n_temp + 2 * N_temp - 2  \n",
    "        t = t + 1\n",
    "        \n",
    "    print (\"iterate\", t, \"times\")\n",
    "        \n",
    "    return N, n"
   ]
  },
  {
   "cell_type": "code",
   "execution_count": 5,
   "metadata": {},
   "outputs": [
    {
     "name": "stdout",
     "output_type": "stream",
     "text": [
      "iterate 1 times\n",
      "(120, 85)\n",
      "iterate 4 times\n",
      "(23661, 16731)\n",
      "iterate 7 times\n",
      "(4684660, 3312555)\n"
     ]
    }
   ],
   "source": [
    "print(find_arr2(1e2))\n",
    "print(find_arr2(1e4))\n",
    "print(find_arr2(1e6))"
   ]
  },
  {
   "cell_type": "markdown",
   "metadata": {},
   "source": [
    "For this problem, we should input $10^{12}$. For `find_arr`, it may take hours (or even days!) to find the answer, but `find_arr2` gives the answer just within a second!"
   ]
  },
  {
   "cell_type": "code",
   "execution_count": 6,
   "metadata": {},
   "outputs": [
    {
     "name": "stdout",
     "output_type": "stream",
     "text": [
      "iterate 14 times\n",
      "(1070379110497, 756872327473)\n"
     ]
    }
   ],
   "source": [
    "print(find_arr2(1e12))"
   ]
  },
  {
   "cell_type": "markdown",
   "metadata": {},
   "source": [
    "If we use `find_arr`, it will iterate at least $1070379110497 - 10^{12} = 70379110497$ times (iteration for `N + 1`) to get the answer."
   ]
  },
  {
   "cell_type": "markdown",
   "metadata": {},
   "source": [
    "## Reference:\n",
    "1. https://www.mathblog.dk/project-euler-100-blue-discs-two-blue/"
   ]
  },
  {
   "cell_type": "code",
   "execution_count": null,
   "metadata": {},
   "outputs": [],
   "source": []
  }
 ],
 "metadata": {
  "kernelspec": {
   "display_name": "Python 3",
   "language": "python",
   "name": "python3"
  },
  "language_info": {
   "codemirror_mode": {
    "name": "ipython",
    "version": 3
   },
   "file_extension": ".py",
   "mimetype": "text/x-python",
   "name": "python",
   "nbconvert_exporter": "python",
   "pygments_lexer": "ipython3",
   "version": "3.8.3"
  }
 },
 "nbformat": 4,
 "nbformat_minor": 4
}
