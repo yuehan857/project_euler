{
 "cells": [
  {
   "cell_type": "markdown",
   "metadata": {},
   "source": [
    "## Problem 54: Poker hands"
   ]
  },
  {
   "cell_type": "markdown",
   "metadata": {},
   "source": [
    "The file, https://projecteuler.net/project/resources/p054_poker.txt, contains one-thousand random hands dealt to two players. Each line of the file contains ten cards (separated by a single space): the first five are Player 1's cards and the last five are Player 2's cards. You can assume that all hands are valid (no invalid characters or repeated cards), each player's hand is in no specific order, and in each hand there is a clear winner.\n",
    "\n",
    "How many hands does Player 1 win?"
   ]
  },
  {
   "cell_type": "markdown",
   "metadata": {},
   "source": [
    "## Answer"
   ]
  },
  {
   "cell_type": "markdown",
   "metadata": {},
   "source": [
    "The idea for anwersing is very clear: first, we should seperate player 1's cards and player 2's cards, then arrange their cards in order, then determine how 'big' their cards are, and finaly compare them for each hand and count the times when player 1 win."
   ]
  },
  {
   "cell_type": "code",
   "execution_count": 1,
   "metadata": {},
   "outputs": [],
   "source": [
    "import pandas as pd\n",
    "import numpy as np"
   ]
  },
  {
   "cell_type": "code",
   "execution_count": 2,
   "metadata": {},
   "outputs": [
    {
     "data": {
      "text/html": [
       "<div>\n",
       "<style scoped>\n",
       "    .dataframe tbody tr th:only-of-type {\n",
       "        vertical-align: middle;\n",
       "    }\n",
       "\n",
       "    .dataframe tbody tr th {\n",
       "        vertical-align: top;\n",
       "    }\n",
       "\n",
       "    .dataframe thead th {\n",
       "        text-align: right;\n",
       "    }\n",
       "</style>\n",
       "<table border=\"1\" class=\"dataframe\">\n",
       "  <thead>\n",
       "    <tr style=\"text-align: right;\">\n",
       "      <th></th>\n",
       "      <th>0</th>\n",
       "      <th>1</th>\n",
       "      <th>2</th>\n",
       "      <th>3</th>\n",
       "      <th>4</th>\n",
       "      <th>5</th>\n",
       "      <th>6</th>\n",
       "      <th>7</th>\n",
       "      <th>8</th>\n",
       "      <th>9</th>\n",
       "    </tr>\n",
       "  </thead>\n",
       "  <tbody>\n",
       "    <tr>\n",
       "      <th>0</th>\n",
       "      <td>8C</td>\n",
       "      <td>TS</td>\n",
       "      <td>KC</td>\n",
       "      <td>9H</td>\n",
       "      <td>4S</td>\n",
       "      <td>7D</td>\n",
       "      <td>2S</td>\n",
       "      <td>5D</td>\n",
       "      <td>3S</td>\n",
       "      <td>AC</td>\n",
       "    </tr>\n",
       "    <tr>\n",
       "      <th>1</th>\n",
       "      <td>5C</td>\n",
       "      <td>AD</td>\n",
       "      <td>5D</td>\n",
       "      <td>AC</td>\n",
       "      <td>9C</td>\n",
       "      <td>7C</td>\n",
       "      <td>5H</td>\n",
       "      <td>8D</td>\n",
       "      <td>TD</td>\n",
       "      <td>KS</td>\n",
       "    </tr>\n",
       "    <tr>\n",
       "      <th>2</th>\n",
       "      <td>3H</td>\n",
       "      <td>7H</td>\n",
       "      <td>6S</td>\n",
       "      <td>KC</td>\n",
       "      <td>JS</td>\n",
       "      <td>QH</td>\n",
       "      <td>TD</td>\n",
       "      <td>JC</td>\n",
       "      <td>2D</td>\n",
       "      <td>8S</td>\n",
       "    </tr>\n",
       "    <tr>\n",
       "      <th>3</th>\n",
       "      <td>TH</td>\n",
       "      <td>8H</td>\n",
       "      <td>5C</td>\n",
       "      <td>QS</td>\n",
       "      <td>TC</td>\n",
       "      <td>9H</td>\n",
       "      <td>4D</td>\n",
       "      <td>JC</td>\n",
       "      <td>KS</td>\n",
       "      <td>JS</td>\n",
       "    </tr>\n",
       "    <tr>\n",
       "      <th>4</th>\n",
       "      <td>7C</td>\n",
       "      <td>5H</td>\n",
       "      <td>KC</td>\n",
       "      <td>QH</td>\n",
       "      <td>JD</td>\n",
       "      <td>AS</td>\n",
       "      <td>KH</td>\n",
       "      <td>4C</td>\n",
       "      <td>AD</td>\n",
       "      <td>4S</td>\n",
       "    </tr>\n",
       "    <tr>\n",
       "      <th>...</th>\n",
       "      <td>...</td>\n",
       "      <td>...</td>\n",
       "      <td>...</td>\n",
       "      <td>...</td>\n",
       "      <td>...</td>\n",
       "      <td>...</td>\n",
       "      <td>...</td>\n",
       "      <td>...</td>\n",
       "      <td>...</td>\n",
       "      <td>...</td>\n",
       "    </tr>\n",
       "    <tr>\n",
       "      <th>995</th>\n",
       "      <td>3S</td>\n",
       "      <td>AD</td>\n",
       "      <td>9H</td>\n",
       "      <td>JC</td>\n",
       "      <td>6D</td>\n",
       "      <td>JD</td>\n",
       "      <td>AS</td>\n",
       "      <td>KH</td>\n",
       "      <td>6S</td>\n",
       "      <td>JH</td>\n",
       "    </tr>\n",
       "    <tr>\n",
       "      <th>996</th>\n",
       "      <td>AD</td>\n",
       "      <td>3D</td>\n",
       "      <td>TS</td>\n",
       "      <td>KS</td>\n",
       "      <td>7H</td>\n",
       "      <td>JH</td>\n",
       "      <td>2D</td>\n",
       "      <td>JS</td>\n",
       "      <td>QD</td>\n",
       "      <td>AC</td>\n",
       "    </tr>\n",
       "    <tr>\n",
       "      <th>997</th>\n",
       "      <td>9C</td>\n",
       "      <td>JD</td>\n",
       "      <td>7C</td>\n",
       "      <td>6D</td>\n",
       "      <td>TC</td>\n",
       "      <td>6H</td>\n",
       "      <td>6C</td>\n",
       "      <td>JC</td>\n",
       "      <td>3D</td>\n",
       "      <td>3S</td>\n",
       "    </tr>\n",
       "    <tr>\n",
       "      <th>998</th>\n",
       "      <td>QC</td>\n",
       "      <td>KC</td>\n",
       "      <td>3S</td>\n",
       "      <td>JC</td>\n",
       "      <td>KD</td>\n",
       "      <td>2C</td>\n",
       "      <td>8D</td>\n",
       "      <td>AH</td>\n",
       "      <td>QS</td>\n",
       "      <td>TS</td>\n",
       "    </tr>\n",
       "    <tr>\n",
       "      <th>999</th>\n",
       "      <td>AS</td>\n",
       "      <td>KD</td>\n",
       "      <td>3D</td>\n",
       "      <td>JD</td>\n",
       "      <td>8H</td>\n",
       "      <td>7C</td>\n",
       "      <td>8C</td>\n",
       "      <td>5C</td>\n",
       "      <td>QD</td>\n",
       "      <td>6C</td>\n",
       "    </tr>\n",
       "  </tbody>\n",
       "</table>\n",
       "<p>1000 rows × 10 columns</p>\n",
       "</div>"
      ],
      "text/plain": [
       "      0   1   2   3   4   5   6   7   8   9\n",
       "0    8C  TS  KC  9H  4S  7D  2S  5D  3S  AC\n",
       "1    5C  AD  5D  AC  9C  7C  5H  8D  TD  KS\n",
       "2    3H  7H  6S  KC  JS  QH  TD  JC  2D  8S\n",
       "3    TH  8H  5C  QS  TC  9H  4D  JC  KS  JS\n",
       "4    7C  5H  KC  QH  JD  AS  KH  4C  AD  4S\n",
       "..   ..  ..  ..  ..  ..  ..  ..  ..  ..  ..\n",
       "995  3S  AD  9H  JC  6D  JD  AS  KH  6S  JH\n",
       "996  AD  3D  TS  KS  7H  JH  2D  JS  QD  AC\n",
       "997  9C  JD  7C  6D  TC  6H  6C  JC  3D  3S\n",
       "998  QC  KC  3S  JC  KD  2C  8D  AH  QS  TS\n",
       "999  AS  KD  3D  JD  8H  7C  8C  5C  QD  6C\n",
       "\n",
       "[1000 rows x 10 columns]"
      ]
     },
     "execution_count": 2,
     "metadata": {},
     "output_type": "execute_result"
    }
   ],
   "source": [
    "# read_data\n",
    "\n",
    "url = \"https://projecteuler.net/project/resources/p054_poker.txt\"\n",
    "hands = pd.read_csv(url, header = None)\n",
    "card_num = range(0, 9)\n",
    "hands = pd.concat([hands[0].str.split(' ', expand=True)], axis = 1, names = card_num)\n",
    "hands"
   ]
  },
  {
   "cell_type": "markdown",
   "metadata": {},
   "source": [
    "Firstly, we seperate each player's card arrange the card in order. To achieve this, I transform T, J, Q, K and A into 10, 11, 12, 13 and 14. There are two barely independent determinant in ranking players' cards: value and suit, so I store them in seperate list. The result show how I record information for player 1's cards in first hand."
   ]
  },
  {
   "cell_type": "code",
   "execution_count": 3,
   "metadata": {},
   "outputs": [
    {
     "data": {
      "text/plain": [
       "([4, 8, 9, 10, 13], ['C', 'S', 'C', 'H', 'S'])"
      ]
     },
     "execution_count": 3,
     "metadata": {},
     "output_type": "execute_result"
    }
   ],
   "source": [
    "# arrang_cards_fcn\n",
    "\n",
    "def rep_tjqka(val):\n",
    "    letters = [\"T\", \"J\", \"Q\", \"K\", \"A\"]\n",
    "    v = 9\n",
    "    for i in letters:\n",
    "        v = v + 1\n",
    "        while i in val:\n",
    "            val[val.index(i)] = v \n",
    "    \n",
    "    return val\n",
    "\n",
    "def arrang_card(cards ,a_b):\n",
    "    if a_b == \"a\":\n",
    "        start = 0\n",
    "    elif a_b == \"b\":\n",
    "        start = 5\n",
    "    \n",
    "    val = []\n",
    "    suit = []\n",
    "    for i in range(start, start + 5):\n",
    "        temp = cards[i].str.split('').tolist()\n",
    "        val.append(temp[0][1])\n",
    "        suit.append(temp[0][2]) \n",
    "    \n",
    "    val = sorted(list(map(int, rep_tjqka(val))))\n",
    "        \n",
    "    return val, suit\n",
    "\n",
    "arrang_card(hands[0:1], \"a\")"
   ]
  },
  {
   "cell_type": "markdown",
   "metadata": {},
   "source": [
    "Then, I need a function to distinguish cards' pattern (e.g. flush, straight, etc.). To achieve this, I define several auxiliary functions. By entering the value and suit, my `find_pattern` function can tell you which pattern the card is, and also return necessary caches needed for comparasion (e.g. value of pairs)."
   ]
  },
  {
   "cell_type": "code",
   "execution_count": 4,
   "metadata": {},
   "outputs": [],
   "source": [
    "# find_pattern_fcn\n",
    "\n",
    "def check_pairs(val):\n",
    "    pairs = []\n",
    "    for i in range(2, 15):\n",
    "        if val.count(i) == 2:\n",
    "            pairs.append(i)\n",
    "        \n",
    "    return sorted(pairs)\n",
    "\n",
    "def check_three(val):\n",
    "    three = 0\n",
    "    for i in range(2, 15):\n",
    "        if val.count(i) == 3:\n",
    "            three = i\n",
    "    \n",
    "    return three\n",
    "\n",
    "def check_four(val):\n",
    "    four = 0\n",
    "    for i in range(2, 15):\n",
    "        if val.count(i) == 4:\n",
    "            four = i\n",
    "    \n",
    "    return four\n",
    "\n",
    "def check_straight(val):\n",
    "    straight = 0\n",
    "    check = len(check_pairs(val)) == 0 and check_three(val) == 0 and check_four(val) == 0\n",
    "    if check:\n",
    "        if val[-1] - val[0] == 4:\n",
    "            straight = val[-1]\n",
    "    \n",
    "    return straight\n",
    "\n",
    "def check_flush(suit):\n",
    "    flush = 0\n",
    "    if len(set(suit)) == 1:\n",
    "        flush = 1\n",
    "        \n",
    "    return flush                 \n",
    "\n",
    "def find_pattern(val, suit):\n",
    "    pairs = check_pairs(val)\n",
    "    three = check_three(val)\n",
    "    four = check_four(val)\n",
    "    straight = check_straight(val)\n",
    "    flush = check_flush(suit)\n",
    "    \n",
    "    if straight and flush:\n",
    "        pattern = 1\n",
    "    elif four:\n",
    "        pattern = 2\n",
    "    elif len(pairs) == 1 and three:\n",
    "        pattern = 3\n",
    "    elif flush:\n",
    "        pattern = 4\n",
    "    elif straight:\n",
    "        pattern = 5\n",
    "    elif three:\n",
    "        pattern = 6\n",
    "    elif len(pairs) == 2:\n",
    "        pattern = 7\n",
    "    elif len(pairs) == 1:\n",
    "        pattern = 8\n",
    "    else:\n",
    "        pattern = 9\n",
    "    \n",
    "    cache = [pairs, three, four, straight, flush]\n",
    "    \n",
    "    return cache, pattern"
   ]
  },
  {
   "cell_type": "markdown",
   "metadata": {},
   "source": [
    "Next, I construct a function to do the comparasion between two players' cards. When patterns are different, it is simple to rank; but if two cards have same pattern, we need further evaluation. I create a `compare_high` function to deal with this problem."
   ]
  },
  {
   "cell_type": "code",
   "execution_count": 5,
   "metadata": {},
   "outputs": [],
   "source": [
    "# compare_fcn\n",
    "\n",
    "def high(a, b, a2=0, b2=0, a3 = 0, b3 = 0):\n",
    "    if a > b:\n",
    "        r = 1\n",
    "    elif a < b:\n",
    "        r = 0\n",
    "    elif a2 > b2:\n",
    "        r = 1\n",
    "    elif a2 < b2:\n",
    "        r = 0\n",
    "    elif a3 > b3:\n",
    "        r = 1\n",
    "    else:\n",
    "        r = 0\n",
    "        \n",
    "    return r\n",
    "\n",
    "def compare_high(a, b, p, v_a, v_b):\n",
    "    if p == 1:\n",
    "        r = high(a[3], b[3])\n",
    "    elif p == 2:\n",
    "        r = high(a[2], b[2])\n",
    "    elif p == 3:\n",
    "        r = high(a[1], b[1], a[0][0], b[0][0])\n",
    "    elif p == 4:\n",
    "        r = high(max(v_a), max(v_b))\n",
    "    elif p == 5:\n",
    "        r = high(a[3], b[3])\n",
    "    elif p == 6:\n",
    "        r = high(a[1], b[1])\n",
    "    elif p == 7:\n",
    "        a3 = list(set(v_a))\n",
    "        a3.remove(a[0][1])\n",
    "        a3.remove(a[0][0])\n",
    "        b3 = list(set(v_b))\n",
    "        b3.remove(b[0][1])\n",
    "        b3.remove(b[0][0])\n",
    "        r = high(a[0][1], b[0][1], a[0][0], b[0][0], a3, b3)\n",
    "    elif p == 8:\n",
    "        a2 = list(set(v_a))\n",
    "        a2.remove(a[0][0])\n",
    "        b2 = list(set(v_b))\n",
    "        b2.remove(b[0][0])\n",
    "        r = high(a[0][0], b[0][0], max(a2), max(b2))\n",
    "    elif p == 9:\n",
    "        r = high(max(v_a), max(v_b))\n",
    "        \n",
    "    return r\n",
    "        \n",
    "def compare(val_a, suit_a, val_b, suit_b):\n",
    "    cache_a, pattern_a = find_pattern(val_a, suit_a)\n",
    "    cache_b, pattern_b = find_pattern(val_b, suit_b)\n",
    "    if pattern_a < pattern_b:\n",
    "        result = 1\n",
    "    elif pattern_a > pattern_b:\n",
    "        result = 0\n",
    "    else:\n",
    "        result = compare_high(cache_a, cache_b, pattern_a, val_a, val_b)\n",
    "            \n",
    "    return result, cache_a, cache_b, pattern_a, pattern_b"
   ]
  },
  {
   "cell_type": "markdown",
   "metadata": {},
   "source": [
    "The final step is just to wrap the above functions up into a `main` function and do a loop to compare the 1000 hands' cards in dataset. The result is printed below."
   ]
  },
  {
   "cell_type": "code",
   "execution_count": 6,
   "metadata": {},
   "outputs": [
    {
     "data": {
      "text/plain": [
       "376"
      ]
     },
     "execution_count": 6,
     "metadata": {},
     "output_type": "execute_result"
    }
   ],
   "source": [
    "# final step\n",
    "\n",
    "def main(hands):\n",
    "    a_win = 0\n",
    "    for i in range(0, len(hands)):       \n",
    "        val_a, suit_a = arrang_card(hands[i:(i + 1)], \"a\")\n",
    "        val_b, suit_b = arrang_card(hands[i:(i + 1)], \"b\")\n",
    "        a_win = a_win + compare(val_a, suit_a, val_b, suit_b)[0]\n",
    "    \n",
    "    return a_win\n",
    "\n",
    "main(hands)"
   ]
  },
  {
   "cell_type": "markdown",
   "metadata": {},
   "source": [
    "## An elegant solution"
   ]
  },
  {
   "cell_type": "markdown",
   "metadata": {},
   "source": [
    "I would like to share one brilliant solution, which solve the problem within 20 lines! The author's code does the similar thing in more concise way: basicly it creates a **score** list consists of *pattern score* and *cards value* for each player's cards; when comparing, first compare *pattern score*, if *pattern scores* are tie, then compare the high card (which stored in order in *cards value*, the second element of **score** list), which can be implemented just by using `score_list1 > score_list2` (if 1 win, return `True`, otherwise return `False`)"
   ]
  },
  {
   "cell_type": "code",
   "execution_count": 7,
   "metadata": {},
   "outputs": [
    {
     "name": "stdout",
     "output_type": "stream",
     "text": [
      "P1 wins 376\n"
     ]
    }
   ],
   "source": [
    "from collections import Counter\n",
    "\n",
    "hands = (line.split() for line in open('p054_poker.txt'))\n",
    "\n",
    "values = {r:i for i,r in enumerate('23456789TJQKA', 2)}\n",
    "straights = [(v, v-1, v-2, v-3, v-4) for v in range(14, 5, -1)] + [(14, 5, 4, 3, 2)]\n",
    "ranks = [(1,1,1,1,1),(2,1,1,1),(2,2,1),(3,1,1),(),(),(3,2),(4,1)]\n",
    "\n",
    "def hand_rank(hand):\n",
    "\tscore = list(zip(*sorted(((v, values[k]) for\n",
    "\t\tk,v in Counter(x[0] for x in hand).items()), reverse=True)))\n",
    "\tscore[0] = ranks.index(score[0])\n",
    "\tif len(set(card[1] for card in hand)) == 1: score[0] = 5  # flush\n",
    "\tif score[1] in straights: score[0] = 8 if score[0] == 5 else 4  # str./str. flush\n",
    "\treturn score\n",
    "\n",
    "print (\"P1 wins\", sum(hand_rank(hand[:5]) > hand_rank(hand[5:]) for hand in hands))"
   ]
  },
  {
   "cell_type": "code",
   "execution_count": 8,
   "metadata": {},
   "outputs": [
    {
     "name": "stdout",
     "output_type": "stream",
     "text": [
      "[4, (10, 9, 8, 7, 6)] [3, (8, 9, 4)] [2, (9, 8, 4)] [2, (8, 5, 4)]\n"
     ]
    },
    {
     "data": {
      "text/plain": [
       "True"
      ]
     },
     "execution_count": 8,
     "metadata": {},
     "output_type": "execute_result"
    }
   ],
   "source": [
    "cards1 = ['8C', '7S', '9H', '6D', 'TC']\n",
    "cards2 = ['8C', '8S', '9H', '8D', '4C']\n",
    "cards3 = ['8C', '8S', '9H', '9D', '4C']\n",
    "cards4 = ['8C', '8S', '5H', '5D', '4C']\n",
    "print(hand_rank(cards1),\n",
    "      hand_rank(cards2),\n",
    "      hand_rank(cards3),\n",
    "      hand_rank(cards4))\n",
    "hand_rank(cards1) > hand_rank(cards2)"
   ]
  },
  {
   "cell_type": "markdown",
   "metadata": {},
   "source": [
    "## Reference:\n",
    "1. https://blog.dreamshire.com/project-euler-54-solution/"
   ]
  },
  {
   "cell_type": "code",
   "execution_count": null,
   "metadata": {},
   "outputs": [],
   "source": []
  }
 ],
 "metadata": {
  "kernelspec": {
   "display_name": "Python 3",
   "language": "python",
   "name": "python3"
  },
  "language_info": {
   "codemirror_mode": {
    "name": "ipython",
    "version": 3
   },
   "file_extension": ".py",
   "mimetype": "text/x-python",
   "name": "python",
   "nbconvert_exporter": "python",
   "pygments_lexer": "ipython3",
   "version": "3.8.3"
  }
 },
 "nbformat": 4,
 "nbformat_minor": 4
}
